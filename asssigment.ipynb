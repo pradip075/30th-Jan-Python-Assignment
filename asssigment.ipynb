{
 "cells": [
  {
   "cell_type": "code",
   "execution_count": 6,
   "id": "fa8bb5f0-8b6c-4444-99df-bdf05f7c086f",
   "metadata": {},
   "outputs": [
    {
     "name": "stdin",
     "output_type": "stream",
     "text": [
      "Enter Your Percentage:  89.9\n"
     ]
    },
    {
     "name": "stdout",
     "output_type": "stream",
     "text": [
      "Grade: B\n"
     ]
    }
   ],
   "source": [
    "percentage = float(input(\"Enter Your Percentage: \"))\n",
    "\n",
    "if percentage > 90:\n",
    "    grade = \"A\"\n",
    "elif percentage > 80 and percentage <= 90:\n",
    "    grade = \"B\"\n",
    "elif percentage >= 60 and percentage <= 80:\n",
    "    grade = \"C\"\n",
    "else:\n",
    "    grade = \"D\"\n",
    "\n",
    "print(\"Grade:\", grade)\n"
   ]
  },
  {
   "cell_type": "code",
   "execution_count": 7,
   "id": "2e1caf24-9115-4eb1-9751-281dd8b37943",
   "metadata": {},
   "outputs": [
    {
     "name": "stdin",
     "output_type": "stream",
     "text": [
      "Enter the cost price of the bike:  125000\n"
     ]
    },
    {
     "name": "stdout",
     "output_type": "stream",
     "text": [
      "The road tax to be paid is Rs. 18750.0\n"
     ]
    }
   ],
   "source": [
    "cost_price = float(input(\"Enter the cost price of the bike: \"))\n",
    "\n",
    "if cost_price > 100000:\n",
    "    road_tax = 0.15 * cost_price\n",
    "elif cost_price > 50000 and cost_price <= 100000:\n",
    "    road_tax = 0.1 * cost_price\n",
    "else:\n",
    "    road_tax = 0.05 * cost_price\n",
    "\n",
    "print(\"The road tax to be paid is Rs.\", road_tax)"
   ]
  },
  {
   "cell_type": "code",
   "execution_count": 8,
   "id": "c604c239-281a-4d8a-8c0d-8fa2e75baad9",
   "metadata": {},
   "outputs": [
    {
     "name": "stdin",
     "output_type": "stream",
     "text": [
      "Enter the name of a city:  Agra\n"
     ]
    },
    {
     "name": "stdout",
     "output_type": "stream",
     "text": [
      "The monuments in Agra are:\n",
      "- Taj Mahal\n",
      "- Agra Fort\n"
     ]
    }
   ],
   "source": [
    "city = input(\"Enter the name of a city: \")\n",
    "\n",
    "if city == \"Delhi\":\n",
    "    print(\"The monuments in Delhi are:\")\n",
    "    print(\"- Red Fort\")\n",
    "    print(\"- Qutub Minar\")\n",
    "    print(\"- India Gate\")\n",
    "elif city == \"Agra\":\n",
    "    print(\"The monuments in Agra are:\")\n",
    "    print(\"- Taj Mahal\")\n",
    "    print(\"- Agra Fort\")\n",
    "elif city == \"Jaipur\":\n",
    "    print(\"The monuments in Jaipur are:\")\n",
    "    print(\"- Hawa Mahal\")\n",
    "    print(\"- Jal Mahal\")\n",
    "else:\n",
    "    print(\"Sorry, we don't have information about the monuments in that city.\")\n"
   ]
  },
  {
   "cell_type": "code",
   "execution_count": 9,
   "id": "9f239082-9efd-4277-9539-24769a7e9bf2",
   "metadata": {},
   "outputs": [
    {
     "name": "stdin",
     "output_type": "stream",
     "text": [
      "Enter a number:  89\n"
     ]
    },
    {
     "name": "stdout",
     "output_type": "stream",
     "text": [
      "The number can be divided by 3 2 times before it is less than or equal to 10.\n"
     ]
    }
   ],
   "source": [
    "num = int(input(\"Enter a number: \"))\n",
    "count = 0\n",
    "\n",
    "while num > 10:\n",
    "    num /= 3\n",
    "    count += 1\n",
    "\n",
    "print(\"The number can be divided by 3\", count, \"times before it is less than or equal to 10.\")\n"
   ]
  },
  {
   "cell_type": "code",
   "execution_count": null,
   "id": "109d4161-01a6-48ae-a8d0-22d4b42c99cb",
   "metadata": {},
   "outputs": [],
   "source": [
    "## In Python, a while loop is a type of loop that repeatedly executes a block of code as long as a specified condition is true. The syntax of a while loop is as follows:"
   ]
  },
  {
   "cell_type": "code",
   "execution_count": null,
   "id": "eef9658d-e1e0-45af-8106-eb2dfed0e4dc",
   "metadata": {},
   "outputs": [],
   "source": [
    "while condition:\n",
    "    # Code to be executed while the condition is true\n"
   ]
  },
  {
   "cell_type": "code",
   "execution_count": null,
   "id": "315bc992-39f9-4698-9780-c7306ed988ef",
   "metadata": {},
   "outputs": [],
   "source": [
    "The condition is checked at the beginning of each iteration. If the condition is true, the code block inside the loop is executed. After the code block is executed, the condition is checked again. If it is still true, the code block is executed again, and this process continues until the condition becomes false.\n",
    "\n",
    "The while loop is useful when you want to execute a block of code repeatedly as long as a certain condition is true, and you don't know in advance how many times the code should be executed. For example, you might use a while loop to read input from the user until they enter a valid value, or to repeatedly perform some calculation until it reaches a certain threshold."
   ]
  },
  {
   "cell_type": "code",
   "execution_count": 11,
   "id": "8c20457f-816a-43b7-a985-415af28c3e83",
   "metadata": {},
   "outputs": [
    {
     "name": "stdin",
     "output_type": "stream",
     "text": [
      "Enter a number:  25\n"
     ]
    },
    {
     "name": "stdout",
     "output_type": "stream",
     "text": [
      "The sum of the integers from 1 to 25 is 325\n"
     ]
    }
   ],
   "source": [
    "# Keep asking the user to enter a number until they enter a valid integer\n",
    "while True:\n",
    "    try:\n",
    "        num = int(input(\"Enter a number: \"))\n",
    "        break\n",
    "    except ValueError:\n",
    "        print(\"Invalid input. Please enter an integer.\")\n",
    "\n",
    "# Calculate the sum of the integers from 1 to the entered number\n",
    "i = 1\n",
    "sum = 0\n",
    "while i <= num:\n",
    "    sum += i\n",
    "    i += 1\n",
    "\n",
    "print(\"The sum of the integers from 1 to\", num, \"is\", sum)\n"
   ]
  },
  {
   "cell_type": "code",
   "execution_count": 12,
   "id": "4a709805-080c-4406-ba2b-7293d25942e4",
   "metadata": {},
   "outputs": [],
   "source": [
    "#Pattern 1:"
   ]
  },
  {
   "cell_type": "code",
   "execution_count": 15,
   "id": "18df48b2-1dfd-48fd-986d-07f1d6ac7037",
   "metadata": {},
   "outputs": [
    {
     "name": "stdout",
     "output_type": "stream",
     "text": [
      "*\n",
      "**\n",
      "***\n",
      "****\n",
      "*****\n"
     ]
    }
   ],
   "source": [
    "i = 1\n",
    "while i <= 5:\n",
    "    j = 1\n",
    "    while j <= i:\n",
    "        print(\"*\", end=\"\")\n",
    "        j += 1\n",
    "    print()\n",
    "    i += 1\n"
   ]
  },
  {
   "cell_type": "code",
   "execution_count": null,
   "id": "c4405fab-1cbe-434d-bb3d-87a340ecf7a9",
   "metadata": {},
   "outputs": [],
   "source": [
    "#Pattern 2:"
   ]
  },
  {
   "cell_type": "code",
   "execution_count": 16,
   "id": "bb779092-a205-4b57-a858-aa1a4710dc50",
   "metadata": {},
   "outputs": [
    {
     "name": "stdout",
     "output_type": "stream",
     "text": [
      "*****\n",
      "****\n",
      "***\n",
      "**\n",
      "*\n"
     ]
    }
   ],
   "source": [
    "i = 5\n",
    "while i >= 1:\n",
    "    j = 1\n",
    "    while j <= i:\n",
    "        print(\"*\", end=\"\")\n",
    "        j += 1\n",
    "    print()\n",
    "    i -= 1\n"
   ]
  },
  {
   "cell_type": "code",
   "execution_count": 17,
   "id": "695b3657-056d-4c42-90db-8bdcf907df2a",
   "metadata": {},
   "outputs": [],
   "source": [
    "#Pattern 3:"
   ]
  },
  {
   "cell_type": "code",
   "execution_count": 19,
   "id": "9da4c363-ea24-4add-9375-c475ac949416",
   "metadata": {},
   "outputs": [
    {
     "name": "stdout",
     "output_type": "stream",
     "text": [
      "1\n",
      "22\n",
      "333\n",
      "4444\n",
      "55555\n"
     ]
    }
   ],
   "source": [
    "i = 1\n",
    "while i <= 5:\n",
    "    j = 1\n",
    "    while j <= i:\n",
    "        print(i, end=\"\")\n",
    "        j += 1\n",
    "    print()\n",
    "    i += 1\n"
   ]
  },
  {
   "cell_type": "code",
   "execution_count": 20,
   "id": "ffe8bb0c-695c-4c98-b359-6665342a3d04",
   "metadata": {},
   "outputs": [
    {
     "name": "stdout",
     "output_type": "stream",
     "text": [
      "10\n",
      "9\n",
      "8\n",
      "7\n",
      "6\n",
      "5\n",
      "4\n",
      "3\n",
      "2\n",
      "1\n"
     ]
    }
   ],
   "source": [
    "i = 10\n",
    "while i >= 1:\n",
    "    print(i)\n",
    "    i -= 1\n"
   ]
  },
  {
   "cell_type": "code",
   "execution_count": 21,
   "id": "e799e075-0b5f-4fdb-9951-1db944714847",
   "metadata": {},
   "outputs": [
    {
     "name": "stdout",
     "output_type": "stream",
     "text": [
      "10\n",
      "9\n",
      "8\n",
      "7\n",
      "6\n",
      "5\n",
      "4\n",
      "3\n",
      "2\n",
      "1\n"
     ]
    }
   ],
   "source": [
    "i = 10\n",
    "while i >= 1:\n",
    "    print(i)\n",
    "    i -= 1\n"
   ]
  },
  {
   "cell_type": "code",
   "execution_count": null,
   "id": "7c3e1635-d61a-44e3-8835-88bab5a4b679",
   "metadata": {},
   "outputs": [],
   "source": []
  }
 ],
 "metadata": {
  "kernelspec": {
   "display_name": "Python 3 (ipykernel)",
   "language": "python",
   "name": "python3"
  },
  "language_info": {
   "codemirror_mode": {
    "name": "ipython",
    "version": 3
   },
   "file_extension": ".py",
   "mimetype": "text/x-python",
   "name": "python",
   "nbconvert_exporter": "python",
   "pygments_lexer": "ipython3",
   "version": "3.10.6"
  }
 },
 "nbformat": 4,
 "nbformat_minor": 5
}
